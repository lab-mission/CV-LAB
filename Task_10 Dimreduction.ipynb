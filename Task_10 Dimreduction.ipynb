{
 "cells": [
  {
   "cell_type": "code",
   "execution_count": null,
   "id": "719236fd",
   "metadata": {},
   "outputs": [],
   "source": [
    "#importing the dataset\n",
    "import numpy as np\n",
    "import matplotlib.pyplot as plt\n",
    "from sklearn.datasets import load_digits\n",
    " \n",
    "digits = load_digits()\n",
    "data = digits.data\n",
    "data.shape"
   ]
  },
  {
   "cell_type": "code",
   "execution_count": null,
   "id": "562ac8f1",
   "metadata": {},
   "outputs": [],
   "source": [
    "### Part 1"
   ]
  },
  {
   "cell_type": "code",
   "execution_count": null,
   "id": "7dca87fe",
   "metadata": {},
   "outputs": [],
   "source": [
    "#taking a sample image to view\n",
    "#Remember image is in the form of numpy array.\n",
    "image_sample = data[0,:].reshape(8,8)\n",
    "plt.imshow(image_sample)"
   ]
  },
  {
   "cell_type": "code",
   "execution_count": null,
   "id": "205298d4",
   "metadata": {},
   "outputs": [],
   "source": [
    "#Import required modules\n",
    "from sklearn.decomposition import PCA\n",
    " \n",
    "pca = PCA(2) # we need 2 principal components.\n",
    "converted_data = pca.fit_transform(digits.data)\n",
    " \n",
    "converted_data.shape"
   ]
  },
  {
   "cell_type": "code",
   "execution_count": null,
   "id": "954846ca",
   "metadata": {},
   "outputs": [],
   "source": [
    "plt.style.use('seaborn-whitegrid')\n",
    "plt.figure(figsize = (10,6))\n",
    "c_map = plt.cm.get_cmap('jet', 10)\n",
    "plt.scatter(converted_data[:, 0], converted_data[:, 1], s = 15,\n",
    "            cmap = c_map , c = digits.target)\n",
    "plt.colorbar()\n",
    "plt.xlabel('PC-1') , plt.ylabel('PC-2')\n",
    "plt.show()"
   ]
  },
  {
   "cell_type": "code",
   "execution_count": null,
   "id": "0263c704",
   "metadata": {},
   "outputs": [],
   "source": [
    "### Part 2"
   ]
  },
  {
   "cell_type": "code",
   "execution_count": null,
   "id": "01fef4af",
   "metadata": {},
   "outputs": [],
   "source": [
    "# Importing required libraries\n",
    "import cv2\n",
    "import numpy as np\n",
    "import matplotlib.pyplot as plt\n",
    "from sklearn.decomposition import PCA"
   ]
  },
  {
   "cell_type": "code",
   "execution_count": null,
   "id": "c4042c9e",
   "metadata": {},
   "outputs": [],
   "source": [
    "# Loading the image \n",
    "img = cv2.imread('my_doggo_sample.jpg') #you can use any image you want.\n",
    "plt.imshow(img)"
   ]
  },
  {
   "cell_type": "code",
   "execution_count": null,
   "id": "02e4dd97",
   "metadata": {},
   "outputs": [],
   "source": [
    "# Splitting the image in R,G,B arrays.\n",
    " \n",
    "blue,green,red = cv2.split(img) \n",
    "#it will split the original image into Blue, Green and Red arrays"
   ]
  },
  {
   "cell_type": "code",
   "execution_count": null,
   "id": "8a4403c7",
   "metadata": {},
   "outputs": [],
   "source": [
    "#initialize PCA with first 20 principal components\n",
    "pca = PCA(20)\n",
    " \n",
    "#Applying to red channel and then applying inverse transform to transformed array.\n",
    "red_transformed = pca.fit_transform(red)\n",
    "red_inverted = pca.inverse_transform(red_transformed)\n",
    " \n",
    "#Applying to Green channel and then applying inverse transform to transformed array.\n",
    "green_transformed = pca.fit_transform(green)\n",
    "green_inverted = pca.inverse_transform(green_transformed)\n",
    "\n",
    "#Applying to Blue channel and then applying inverse transform to transformed array.\n",
    "blue_transformed = pca.fit_transform(blue)\n",
    "blue_inverted = pca.inverse_transform(blue_transformed)"
   ]
  },
  {
   "cell_type": "code",
   "execution_count": null,
   "id": "fbe1bc1b",
   "metadata": {},
   "outputs": [],
   "source": [
    "img_compressed = (np.dstack((red_inverted, red_inverted, red_inverted))).astype(np.uint8)\n"
   ]
  },
  {
   "cell_type": "code",
   "execution_count": null,
   "id": "6bfc5599",
   "metadata": {},
   "outputs": [],
   "source": [
    "#viewing the compressed image\n",
    "plt.imshow(img_compressed)"
   ]
  }
 ],
 "metadata": {
  "kernelspec": {
   "display_name": "Python 3",
   "language": "python",
   "name": "python3"
  },
  "language_info": {
   "codemirror_mode": {
    "name": "ipython",
    "version": 3
   },
   "file_extension": ".py",
   "mimetype": "text/x-python",
   "name": "python",
   "nbconvert_exporter": "python",
   "pygments_lexer": "ipython3",
   "version": "3.8.10"
  }
 },
 "nbformat": 4,
 "nbformat_minor": 5
}
