{
 "cells": [
  {
   "cell_type": "code",
   "execution_count": null,
   "metadata": {},
   "outputs": [],
   "source": [
    "from color_model_plot import *\n",
    "\n",
    "import numpy as np\n",
    "from PIL import Image\n",
    "\n",
    "from _utils import *"
   ]
  },
  {
   "cell_type": "markdown",
   "metadata": {},
   "source": [
    "## Input image\n",
    "---"
   ]
  },
  {
   "cell_type": "code",
   "execution_count": null,
   "metadata": {},
   "outputs": [],
   "source": [
    "img_in = Image.open('../_data/babuino.png')\n",
    "img_in = img_in.resize((128, 128), Image.ANTIALIAS)\n",
    "img_in = np.asarray(img_in)/255"
   ]
  },
  {
   "cell_type": "code",
   "execution_count": null,
   "metadata": {},
   "outputs": [],
   "source": [
    "summary(img_in)"
   ]
  },
  {
   "cell_type": "code",
   "execution_count": null,
   "metadata": {},
   "outputs": [],
   "source": [
    "histogram(img_in, interval=[0, 1])"
   ]
  },
  {
   "cell_type": "markdown",
   "metadata": {},
   "source": [
    "## RGB color model\n",
    "---\n",
    "Color model based on the cartesian coordinates, where each primary color is represented by an axis."
   ]
  },
  {
   "cell_type": "code",
   "execution_count": null,
   "metadata": {},
   "outputs": [],
   "source": [
    "N1, N2, C = img_in.shape\n",
    "RGB = img_in.reshape(-1, C)\n",
    "\n",
    "plotRGB(RGB)"
   ]
  },
  {
   "cell_type": "markdown",
   "metadata": {},
   "source": [
    "## XYZ color model\n",
    "---\n",
    "$$ \\large\n",
    "\\left[\n",
    "    \\begin{array}{c}\n",
    "        X\\\\Y\\\\Z\n",
    "    \\end{array}\n",
    "\\right]\n",
    "=\n",
    "\\left[\n",
    "    \\begin{array}{ccc}\n",
    "        0.490 & 0.310 & 0.200\\\\\n",
    "        0.177 & 0.813 & 0.010\\\\\n",
    "        0.000 & 0.010 & 0.990\n",
    "    \\end{array}\n",
    "\\right]\n",
    "\\left[\n",
    "    \\begin{array}{c}\n",
    "        R\\\\G\\\\B\n",
    "    \\end{array}\n",
    "\\right]\n",
    "$$\n"
   ]
  },
  {
   "cell_type": "code",
   "execution_count": null,
   "metadata": {},
   "outputs": [],
   "source": [
    "# Color model\n",
    "m = np.array([\n",
    "    [0.490, 0.310, 0.200],\n",
    "    [0.177, 0.813, 0.010],\n",
    "    [0.000, 0.010, 0.990]\n",
    "])\n",
    "XYZ = np.dot(m, RGB.T).T\n",
    "\n",
    "plotXYZ(XYZ, RGB, m)"
   ]
  },
  {
   "cell_type": "markdown",
   "metadata": {},
   "source": [
    "## YIQ color model\n",
    "---\n",
    "$$ \\large\n",
    "\\left[\n",
    "    \\begin{array}{c}\n",
    "        Y\\\\I\\\\Q\n",
    "    \\end{array}\n",
    "\\right]\n",
    "=\n",
    "\\left[\n",
    "    \\begin{array}{ccc}\n",
    "        0.299 & 0.587 & 0.114\\\\\n",
    "        0.596 & -0.275 & -0.321\\\\\n",
    "        0.212 & -0.523 & 0.331\n",
    "    \\end{array}\n",
    "\\right]\n",
    "\\left[\n",
    "    \\begin{array}{c}\n",
    "        R\\\\G\\\\B\n",
    "    \\end{array}\n",
    "\\right]\n",
    "$$\n"
   ]
  },
  {
   "cell_type": "code",
   "execution_count": null,
   "metadata": {},
   "outputs": [],
   "source": [
    "# Color model\n",
    "m = np.array([\n",
    "    [0.299, 0.587, 0.114],\n",
    "    [0.596, -0.275, -0.321],\n",
    "    [0.212, -0.523, 0.311]\n",
    "])\n",
    "YIQ = np.dot(m, RGB.T).T\n",
    "\n",
    "plotXYZ(YIQ, RGB, m)"
   ]
  },
  {
   "cell_type": "markdown",
   "metadata": {},
   "source": [
    "## YUV color model\n",
    "---\n",
    "$$ \\large\n",
    "\\left[\n",
    "    \\begin{array}{c}\n",
    "        Y\\\\U\\\\V\n",
    "    \\end{array}\n",
    "\\right]\n",
    "=\n",
    "\\left[\n",
    "    \\begin{array}{ccc}\n",
    "        0.299 & 0.587 & 0.114\\\\\n",
    "        -0.147 & -0.289 & 0.436\\\\\n",
    "        0.615 & -0.515 & -0.100\n",
    "    \\end{array}\n",
    "\\right]\n",
    "\\left[\n",
    "    \\begin{array}{c}\n",
    "        R\\\\G\\\\B\n",
    "    \\end{array}\n",
    "\\right]\n",
    "$$\n"
   ]
  },
  {
   "cell_type": "code",
   "execution_count": null,
   "metadata": {},
   "outputs": [],
   "source": [
    "# Color model\n",
    "m = np.array([\n",
    "    [0.299, 0.587, 0.114],\n",
    "    [-0.147, -0.289, 0.436],\n",
    "    [0.615, -0.515, -0.100]\n",
    "])\n",
    "YUV = np.dot(m, RGB.T).T\n",
    "\n",
    "plotXYZ(YUV, RGB, m)"
   ]
  },
  {
   "cell_type": "markdown",
   "metadata": {},
   "source": [
    "## $YC_BC_R$ color model\n",
    "---\n",
    "$$ \\large\n",
    "\\left[\n",
    "    \\begin{array}{c}\n",
    "        Y\\\\C_B\\\\C_R\n",
    "    \\end{array}\n",
    "\\right]\n",
    "=\n",
    "\\left[\n",
    "    \\begin{array}{ccc}\n",
    "        0.299 & 0.587 & 0.114\\\\\n",
    "        -0.169 & -0.331 & 0.500\\\\\n",
    "        0.500 & -0.419 & -0.081\n",
    "    \\end{array}\n",
    "\\right]\n",
    "\\left[\n",
    "    \\begin{array}{c}\n",
    "        R\\\\G\\\\B\n",
    "    \\end{array}\n",
    "\\right]\n",
    "$$\n"
   ]
  },
  {
   "cell_type": "code",
   "execution_count": null,
   "metadata": {},
   "outputs": [],
   "source": [
    "# Color model\n",
    "m = np.array([\n",
    "    [ 0.299,  0.587,  0.114],\n",
    "    [-0.169, -0.331,  0.500],\n",
    "    [ 0.500, -0.419, -0.081]\n",
    "])\n",
    "YCbCr = np.dot(m, RGB.T).T\n",
    "\n",
    "plotXYZ(YCbCr, RGB, m)"
   ]
  },
  {
   "cell_type": "markdown",
   "metadata": {},
   "source": [
    "## HSV color model\n",
    "---\n",
    "$$ \\large\n",
    "H = \\begin{cases}\n",
    "    60\\frac{G-B}{M-m} &     \\text{, if $M = R$} \\\\\n",
    "    60\\frac{B-R}{M-m}+120 & \\text{, if $M = G$} \\\\\n",
    "    60\\frac{R-G}{M-m}+240 & \\text{, if $M = B$}\n",
    "\\end{cases}\n",
    "\\quad;\\quad\n",
    "S = \\begin{cases}\n",
    "    \\frac{M-m}{M} & \\text{, if $M \\neq 0$} \\\\\n",
    "    0             & \\text{, otherwise}\n",
    "\\end{cases}\n",
    "\\quad;\\quad\n",
    "V = M\n",
    "$$"
   ]
  },
  {
   "cell_type": "code",
   "execution_count": null,
   "metadata": {},
   "outputs": [],
   "source": [
    "# Color model\n",
    "R, G, B = RGB.T\n",
    "m, M = np.min(RGB, axis=1), np.max(RGB, axis=1)\n",
    "\n",
    "H = np.zeros(R.size)\n",
    "\n",
    "H = np.where(M == R, 60*(G - B)/(M - m)      , H)\n",
    "H = np.where(M == G, 60*(B - R)/(M - m) + 120, H)\n",
    "H = np.where(M == B, 60*(R - G)/(M - m) + 240, H)\n",
    "\n",
    "S = np.zeros(G.size)\n",
    "\n",
    "S = np.where(M != 0, (M - m)/M, S)\n",
    "\n",
    "HSV = np.zeros(RGB.shape)\n",
    "\n",
    "HSV[:, 0] = H\n",
    "HSV[:, 1] = S\n",
    "HSV[:, 2] = M\n",
    "\n",
    "plotHSV(HSV, RGB)"
   ]
  },
  {
   "cell_type": "markdown",
   "metadata": {},
   "source": [
    "## HSL color model\n",
    "---\n",
    "$$ \\large\n",
    "H = \\begin{cases}\n",
    "    60\\frac{G-B}{M-m} &     \\text{, if $M = R$} \\\\\n",
    "    60\\frac{B-R}{M-m}+120 & \\text{, if $M = G$} \\\\\n",
    "    60\\frac{R-G}{M-m}+240 & \\text{, if $M = B$}\n",
    "\\end{cases}\n",
    "\\quad;\\quad\n",
    "S = \\begin{cases}\n",
    "    0             & \\text{, if M=m} \\\\\n",
    "    \\frac{M-m}{M+m} & \\text{, if $0 < L \\leq 0.5$} \\\\\n",
    "    \\frac{M-m}{2-(M+m)} & \\text{, $L > 0.5$}\n",
    "\\end{cases}\n",
    "\\quad;\\quad\n",
    "L = \\frac{M+m}{2}\n",
    "$$"
   ]
  },
  {
   "cell_type": "code",
   "execution_count": null,
   "metadata": {},
   "outputs": [],
   "source": [
    "# Color model\n",
    "R, G, B = RGB.T\n",
    "m, M = np.min(RGB, axis=1), np.max(RGB, axis=1)\n",
    "\n",
    "H = np.zeros(R.size)\n",
    "\n",
    "H = np.where(M == R, 60*(G - B)/(M - m)      , H)\n",
    "H = np.where(M == G, 60*(B - R)/(M - m) + 120, H)\n",
    "H = np.where(M == B, 60*(R - G)/(M - m) + 240, H)\n",
    "\n",
    "L = (M + m)/2\n",
    "\n",
    "S = np.zeros(G.size)\n",
    "\n",
    "S = np.where(L <= 0.5, (M - m)/(M + m), S)\n",
    "S = np.where(L > 0.5, (M - m)/(2 - (M + m)), S)\n",
    "\n",
    "HSL = np.zeros(RGB.shape)\n",
    "\n",
    "HSL[:, 0] = H\n",
    "HSL[:, 1] = S\n",
    "HSL[:, 2] = L\n",
    "\n",
    "plotHSL(HSL, RGB)"
   ]
  }
 ],
 "metadata": {
  "kernelspec": {
   "display_name": "Python 3",
   "language": "python",
   "name": "python3"
  },
  "language_info": {
   "codemirror_mode": {
    "name": "ipython",
    "version": 3
   },
   "file_extension": ".py",
   "mimetype": "text/x-python",
   "name": "python",
   "nbconvert_exporter": "python",
   "pygments_lexer": "ipython3",
   "version": "3.8.10"
  }
 },
 "nbformat": 4,
 "nbformat_minor": 2
}
