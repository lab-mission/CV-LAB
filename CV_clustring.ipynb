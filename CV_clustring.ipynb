{
 "cells": [
  {
   "cell_type": "code",
   "execution_count": null,
   "id": "11b498a2",
   "metadata": {},
   "outputs": [],
   "source": [
    "# import the necessary packages\n",
    "from sklearn.cluster import KMeans\n",
    "import matplotlib.pyplot as plt\n",
    "import argparse\n",
    "import utils\n",
    "import cv2\n",
    "# construct the argument parser and parse the arguments\n",
    "ap = argparse.ArgumentParser()\n",
    "ap.add_argument(\"-i\", \"--image\", required = True, help = \"Path to the image\")\n",
    "ap.add_argument(\"-c\", \"--clusters\", required = True, type = int, help = \"# of clusters\")\n",
    "args = vars(ap.parse_args())\n",
    "# load the image and convert it from BGR to RGB so that\n",
    "# we can dispaly it with matplotlib\n",
    "image = cv2.imread(args[\"image\"])\n",
    "image = cv2.cvtColor(image, cv2.COLOR_BGR2RGB)\n",
    "# show our image\n",
    "plt.figure()\n",
    "plt.axis(\"off\")\n",
    "plt.imshow(image)"
   ]
  },
  {
   "cell_type": "code",
   "execution_count": null,
   "id": "33a26a79",
   "metadata": {},
   "outputs": [],
   "source": [
    "# reshape the image to be a list of pixels\n",
    "image = image.reshape((image.shape[0] * image.shape[1], 3))"
   ]
  },
  {
   "cell_type": "code",
   "execution_count": null,
   "id": "9b86f964",
   "metadata": {},
   "outputs": [],
   "source": [
    "# import the necessary packages\n",
    "import numpy as np\n",
    "import cv2\n",
    "def centroid_histogram(clt):\n",
    "\t# grab the number of different clusters and create a histogram\n",
    "\t# based on the number of pixels assigned to each cluster\n",
    "\tnumLabels = np.arange(0, len(np.unique(clt.labels_)) + 1)\n",
    "\t(hist, _) = np.histogram(clt.labels_, bins = numLabels)\n",
    "\t# normalize the histogram, such that it sums to one\n",
    "\thist = hist.astype(\"float\")\n",
    "\thist /= hist.sum()\n",
    "\t# return the histogram\n",
    "\treturn hist"
   ]
  },
  {
   "cell_type": "code",
   "execution_count": null,
   "id": "a67d712d",
   "metadata": {},
   "outputs": [],
   "source": [
    "def plot_colors(hist, centroids):\n",
    "\t# initialize the bar chart representing the relative frequency\n",
    "\t# of each of the colors\n",
    "\tbar = np.zeros((50, 300, 3), dtype = \"uint8\")\n",
    "\tstartX = 0\n",
    "\t# loop over the percentage of each cluster and the color of\n",
    "\t# each cluster\n",
    "\tfor (percent, color) in zip(hist, centroids):\n",
    "\t\t# plot the relative percentage of each cluster\n",
    "\t\tendX = startX + (percent * 300)\n",
    "\t\tcv2.rectangle(bar, (int(startX), 0), (int(endX), 50),\n",
    "\t\t\tcolor.astype(\"uint8\").tolist(), -1)\n",
    "\t\tstartX = endX\n",
    "\t\n",
    "\t# return the bar chart\n",
    "\treturn bar"
   ]
  },
  {
   "cell_type": "code",
   "execution_count": null,
   "id": "84cb03bb",
   "metadata": {},
   "outputs": [],
   "source": [
    "# build a histogram of clusters and then create a figure\n",
    "# representing the number of pixels labeled to each color\n",
    "hist = utils.centroid_histogram(clt)\n",
    "bar = utils.plot_colors(hist, clt.cluster_centers_)\n",
    "# show our color bart\n",
    "plt.figure()\n",
    "plt.axis(\"off\")\n",
    "plt.imshow(bar)\n",
    "plt.show()"
   ]
  }
 ],
 "metadata": {
  "kernelspec": {
   "display_name": "Python 3",
   "language": "python",
   "name": "python3"
  },
  "language_info": {
   "codemirror_mode": {
    "name": "ipython",
    "version": 3
   },
   "file_extension": ".py",
   "mimetype": "text/x-python",
   "name": "python",
   "nbconvert_exporter": "python",
   "pygments_lexer": "ipython3",
   "version": "3.8.10"
  }
 },
 "nbformat": 4,
 "nbformat_minor": 5
}
