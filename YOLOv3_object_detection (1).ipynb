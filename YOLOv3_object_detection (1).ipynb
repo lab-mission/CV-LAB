{
 "cells": [
  {
   "cell_type": "code",
   "execution_count": null,
   "metadata": {},
   "outputs": [],
   "source": [
    "%matplotlib inline\n",
    "import matplotlib\n",
    "import matplotlib.pyplot as plt\n",
    "\n",
    "import numpy as np\n",
    "import cv2"
   ]
  },
  {
   "cell_type": "code",
   "execution_count": null,
   "metadata": {},
   "outputs": [],
   "source": [
    "plt.rcParams['figure.figsize'] = (20, 10)"
   ]
  },
  {
   "cell_type": "markdown",
   "metadata": {},
   "source": [
    "## Get the dataset\n",
    "---"
   ]
  },
  {
   "cell_type": "code",
   "execution_count": null,
   "metadata": {},
   "outputs": [],
   "source": [
    "# Getting label names\n",
    "!curl --progress-bar -O https://raw.githubusercontent.com/pjreddie/darknet/master/data/coco.names"
   ]
  },
  {
   "cell_type": "code",
   "execution_count": null,
   "metadata": {},
   "outputs": [],
   "source": [
    "# Getting cfg\n",
    "!curl --progress-bar -O https://raw.githubusercontent.com/pjreddie/darknet/master/cfg/yolov3.cfg"
   ]
  },
  {
   "cell_type": "code",
   "execution_count": null,
   "metadata": {},
   "outputs": [],
   "source": [
    "# Getting weights\n",
    "!curl --progress-bar -O https://pjreddie.com/media/files/yolov3.weights"
   ]
  },
  {
   "cell_type": "markdown",
   "metadata": {},
   "source": [
    "## Read and prepare data\n",
    "---"
   ]
  },
  {
   "cell_type": "code",
   "execution_count": null,
   "metadata": {},
   "outputs": [],
   "source": [
    "###########\n",
    "# Classes #\n",
    "###########\n",
    "# Read classes\n",
    "CLASSES = []\n",
    "with open(\"coco.names\", \"r\") as f:\n",
    "    CLASSES = [line.strip() for line in f.readlines()]\n",
    "\n",
    "# Define colors for each class\n",
    "np.random.seed(123456)\n",
    "COLORS = np.random.uniform(0, 255, size=(len(CLASSES), 3))\n",
    "COLORS /= (np.sum(COLORS**2, axis=1)**0.5/255)[np.newaxis].T\n",
    "\n",
    "#########\n",
    "# Model #\n",
    "#########\n",
    "# Build model\n",
    "MODEL = cv2.dnn.readNet(\n",
    "    'yolov3.weights',\n",
    "    'yolov3.cfg'\n",
    ")\n",
    "\n",
    "# Get output layers\n",
    "OUTPUT_LAYERS = [MODEL.getLayerNames()[i[0] - 1] for i in MODEL.getUnconnectedOutLayers()]"
   ]
  },
  {
   "cell_type": "code",
   "execution_count": null,
   "metadata": {},
   "outputs": [],
   "source": [
    "# Read input image\n",
    "IMG_IN = cv2.imread('../_data/f16.png')\n",
    "b, g, r = cv2.split(IMG_IN)\n",
    "IMG_IN = cv2.merge((r, g, b))"
   ]
  },
  {
   "cell_type": "markdown",
   "metadata": {},
   "source": [
    "## Object detection\n",
    "---"
   ]
  },
  {
   "cell_type": "code",
   "execution_count": null,
   "metadata": {},
   "outputs": [],
   "source": [
    "def objectDetection(IMG_IN):\n",
    "    height, width, channels = IMG_IN.shape\n",
    "    blob = cv2.dnn.blobFromImage(IMG_IN, 1/255, (416, 416), swapRB=True, crop=False)\n",
    "\n",
    "    MODEL.setInput(blob)\n",
    "    outs = MODEL.forward(OUTPUT_LAYERS)\n",
    "\n",
    "    # Show infos\n",
    "    class_ids = []\n",
    "    confidences = []\n",
    "    boxes = []\n",
    "    for out in outs:\n",
    "        for detection in out:\n",
    "            scores = detection[5:]\n",
    "            class_id = np.argmax(scores)\n",
    "            confidence = scores[class_id]\n",
    "            if confidence > 0.5:\n",
    "                # Object detected\n",
    "                center_x = int(detection[0]*width)\n",
    "                center_y = int(detection[1]*height)\n",
    "                w = int(detection[2]*width)\n",
    "                h = int(detection[3]*height)\n",
    "\n",
    "                # Rectangle coordinates\n",
    "                x = int(center_x - w/2)\n",
    "                y = int(center_y - h/2)\n",
    "\n",
    "                boxes.append([x, y, w, h])\n",
    "                confidences.append(float(confidence))\n",
    "                class_ids.append(class_id)\n",
    "\n",
    "    # Draw boxes\n",
    "    IMG_OUT = IMG_IN.copy()\n",
    "    indexes = cv2.dnn.NMSBoxes(boxes, confidences, 0.5, 0.4)\n",
    "    font = cv2.FONT_HERSHEY_PLAIN\n",
    "    for i in range(len(boxes)):\n",
    "        if i in indexes:\n",
    "            x, y, w, h = boxes[i]\n",
    "            label = str(CLASSES[class_ids[i]])\n",
    "            color = COLORS[class_ids[i]]\n",
    "            cv2.rectangle(IMG_OUT, (x, y), (x + w, y + h), color, 2)\n",
    "            cv2.putText(IMG_OUT, label, (x, y - 5), font, 2, color, 2)\n",
    "    \n",
    "    return IMG_OUT, label"
   ]
  },
  {
   "cell_type": "code",
   "execution_count": null,
   "metadata": {},
   "outputs": [],
   "source": [
    "fig, (axA, axB) = plt.subplots(1, 2)\n",
    "\n",
    "axA.imshow(IMG_IN)\n",
    "axA.set_title(\"Input image\")\n",
    "\n",
    "IMG_OUT, label = objectDetection(IMG_IN)\n",
    "axB.imshow(IMG_OUT)\n",
    "axB.set_title(f'Object detection | {label}')\n",
    "\n",
    "plt.show()"
   ]
  },
  {
   "cell_type": "markdown",
   "metadata": {},
   "source": [
    "## Examples\n",
    "---"
   ]
  },
  {
   "cell_type": "code",
   "execution_count": null,
   "metadata": {},
   "outputs": [],
   "source": [
    "IMGS = ['cameraman', 'sailboat', 'ship', 'woman01', 'woman02', 'woman03']\n",
    "\n",
    "fig, axs = plt.subplots(2, 3)\n",
    "axs = [b for a in axs for b in a]\n",
    "\n",
    "for i, ax in enumerate(axs):\n",
    "    IMG_IN = cv2.imread(f'../_data/{IMGS[i]}.png')\n",
    "    b, g, r = cv2.split(IMG_IN)\n",
    "    IMG_IN = cv2.merge((r, g, b))\n",
    "\n",
    "    IMG_OUT, label = objectDetection(IMG_IN)\n",
    "    ax.imshow(IMG_OUT)"
   ]
  }
 ],
 "metadata": {
  "kernelspec": {
   "display_name": "Python 3",
   "language": "python",
   "name": "python3"
  },
  "language_info": {
   "codemirror_mode": {
    "name": "ipython",
    "version": 3
   },
   "file_extension": ".py",
   "mimetype": "text/x-python",
   "name": "python",
   "nbconvert_exporter": "python",
   "pygments_lexer": "ipython3",
   "version": "3.8.10"
  }
 },
 "nbformat": 4,
 "nbformat_minor": 4
}
